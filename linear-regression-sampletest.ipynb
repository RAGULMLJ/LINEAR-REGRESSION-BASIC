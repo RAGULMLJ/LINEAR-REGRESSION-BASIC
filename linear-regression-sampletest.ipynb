{
 "cells": [
  {
   "cell_type": "code",
   "execution_count": 1,
   "id": "92a979b3",
   "metadata": {
    "_execution_state": "idle",
    "_uuid": "051d70d956493feee0c6d64651c6a088724dca2a",
    "execution": {
     "iopub.execute_input": "2023-04-09T11:36:00.311908Z",
     "iopub.status.busy": "2023-04-09T11:36:00.309987Z",
     "iopub.status.idle": "2023-04-09T11:36:01.480626Z",
     "shell.execute_reply": "2023-04-09T11:36:01.478578Z"
    },
    "papermill": {
     "duration": 1.17968,
     "end_time": "2023-04-09T11:36:01.483763",
     "exception": false,
     "start_time": "2023-04-09T11:36:00.304083",
     "status": "completed"
    },
    "tags": []
   },
   "outputs": [
    {
     "name": "stderr",
     "output_type": "stream",
     "text": [
      "── \u001b[1mAttaching core tidyverse packages\u001b[22m ──────────────────────── tidyverse 2.0.0 ──\n",
      "\u001b[32m✔\u001b[39m \u001b[34mdplyr    \u001b[39m 1.1.0     \u001b[32m✔\u001b[39m \u001b[34mreadr    \u001b[39m 2.1.4\n",
      "\u001b[32m✔\u001b[39m \u001b[34mforcats  \u001b[39m 1.0.0     \u001b[32m✔\u001b[39m \u001b[34mstringr  \u001b[39m 1.5.0\n",
      "\u001b[32m✔\u001b[39m \u001b[34mggplot2  \u001b[39m 3.4.1     \u001b[32m✔\u001b[39m \u001b[34mtibble   \u001b[39m 3.1.8\n",
      "\u001b[32m✔\u001b[39m \u001b[34mlubridate\u001b[39m 1.9.2     \u001b[32m✔\u001b[39m \u001b[34mtidyr    \u001b[39m 1.3.0\n",
      "\u001b[32m✔\u001b[39m \u001b[34mpurrr    \u001b[39m 1.0.1     \n",
      "── \u001b[1mConflicts\u001b[22m ────────────────────────────────────────── tidyverse_conflicts() ──\n",
      "\u001b[31m✖\u001b[39m \u001b[34mdplyr\u001b[39m::\u001b[32mfilter()\u001b[39m masks \u001b[34mstats\u001b[39m::filter()\n",
      "\u001b[31m✖\u001b[39m \u001b[34mdplyr\u001b[39m::\u001b[32mlag()\u001b[39m    masks \u001b[34mstats\u001b[39m::lag()\n",
      "\u001b[36mℹ\u001b[39m Use the conflicted package (\u001b[3m\u001b[34m<http://conflicted.r-lib.org/>\u001b[39m\u001b[23m) to force all conflicts to become errors\n"
     ]
    },
    {
     "data": {
      "text/html": [],
      "text/latex": [],
      "text/markdown": [],
      "text/plain": [
       "character(0)"
      ]
     },
     "metadata": {},
     "output_type": "display_data"
    }
   ],
   "source": [
    "# This R environment comes with many helpful analytics packages installed\n",
    "# It is defined by the kaggle/rstats Docker image: https://github.com/kaggle/docker-rstats\n",
    "# For example, here's a helpful package to load\n",
    "\n",
    "library(tidyverse) # metapackage of all tidyverse packages\n",
    "\n",
    "# Input data files are available in the read-only \"../input/\" directory\n",
    "# For example, running this (by clicking run or pressing Shift+Enter) will list all files under the input directory\n",
    "\n",
    "list.files(path = \"../input\")\n",
    "\n",
    "# You can write up to 20GB to the current directory (/kaggle/working/) that gets preserved as output when you create a version using \"Save & Run All\" \n",
    "# You can also write temporary files to /kaggle/temp/, but they won't be saved outside of the current session"
   ]
  },
  {
   "cell_type": "markdown",
   "id": "c3129408",
   "metadata": {
    "papermill": {
     "duration": 0.003038,
     "end_time": "2023-04-09T11:36:01.490149",
     "exception": false,
     "start_time": "2023-04-09T11:36:01.487111",
     "status": "completed"
    },
    "tags": []
   },
   "source": []
  },
  {
   "cell_type": "code",
   "execution_count": 2,
   "id": "95777a4b",
   "metadata": {
    "execution": {
     "iopub.execute_input": "2023-04-09T11:36:01.527384Z",
     "iopub.status.busy": "2023-04-09T11:36:01.498099Z",
     "iopub.status.idle": "2023-04-09T11:36:01.554540Z",
     "shell.execute_reply": "2023-04-09T11:36:01.552610Z"
    },
    "papermill": {
     "duration": 0.063666,
     "end_time": "2023-04-09T11:36:01.556743",
     "exception": false,
     "start_time": "2023-04-09T11:36:01.493077",
     "status": "completed"
    },
    "tags": []
   },
   "outputs": [
    {
     "name": "stdout",
     "output_type": "stream",
     "text": [
      "\n",
      "Call:\n",
      "lm(formula = y ~ x)\n",
      "\n",
      "Coefficients:\n",
      "(Intercept)            x  \n",
      "   47.50833      0.07276  \n",
      "\n"
     ]
    }
   ],
   "source": [
    "#Creating input vector for lm() function  \n",
    "x <- c(141, 134, 178, 156, 108, 116, 119, 143, 162, 130)  \n",
    "y <- c(62, 85, 56, 21, 47, 17, 76, 92, 62, 58)  \n",
    "# Applying the lm() function.  \n",
    "relationship_model<- lm(y~x)  \n",
    "#Printing the coefficient   \n",
    "print(relationship_model)  "
   ]
  },
  {
   "cell_type": "markdown",
   "id": "cc17541d",
   "metadata": {
    "papermill": {
     "duration": 0.002942,
     "end_time": "2023-04-09T11:36:01.562743",
     "exception": false,
     "start_time": "2023-04-09T11:36:01.559801",
     "status": "completed"
    },
    "tags": []
   },
   "source": [
    "**FINDING RELATONSHIP BETWEEN DATA**"
   ]
  },
  {
   "cell_type": "code",
   "execution_count": 3,
   "id": "788485ff",
   "metadata": {
    "execution": {
     "iopub.execute_input": "2023-04-09T11:36:01.571682Z",
     "iopub.status.busy": "2023-04-09T11:36:01.570255Z",
     "iopub.status.idle": "2023-04-09T11:36:01.601863Z",
     "shell.execute_reply": "2023-04-09T11:36:01.599815Z"
    },
    "papermill": {
     "duration": 0.038562,
     "end_time": "2023-04-09T11:36:01.604151",
     "exception": false,
     "start_time": "2023-04-09T11:36:01.565589",
     "status": "completed"
    },
    "tags": []
   },
   "outputs": [
    {
     "name": "stdout",
     "output_type": "stream",
     "text": [
      "\n",
      "Call:\n",
      "lm(formula = y ~ x)\n",
      "\n",
      "Residuals:\n",
      "    Min      1Q  Median      3Q     Max \n",
      "-38.948  -7.390   1.869  15.933  34.087 \n",
      "\n",
      "Coefficients:\n",
      "            Estimate Std. Error t value Pr(>|t|)\n",
      "(Intercept) 47.50833   55.18118   0.861    0.414\n",
      "x            0.07276    0.39342   0.185    0.858\n",
      "\n",
      "Residual standard error: 25.96 on 8 degrees of freedom\n",
      "Multiple R-squared:  0.004257,\tAdjusted R-squared:  -0.1202 \n",
      "F-statistic: 0.0342 on 1 and 8 DF,  p-value: 0.8579\n",
      "\n"
     ]
    }
   ],
   "source": [
    "#Printing the coefficient   \n",
    "print(summary(relationship_model))  "
   ]
  },
  {
   "cell_type": "markdown",
   "id": "2f2bee7d",
   "metadata": {
    "papermill": {
     "duration": 0.003188,
     "end_time": "2023-04-09T11:36:01.610622",
     "exception": false,
     "start_time": "2023-04-09T11:36:01.607434",
     "status": "completed"
    },
    "tags": []
   },
   "source": []
  },
  {
   "cell_type": "markdown",
   "id": "9ae8ba65",
   "metadata": {
    "papermill": {
     "duration": 0.003217,
     "end_time": "2023-04-09T11:36:01.616860",
     "exception": false,
     "start_time": "2023-04-09T11:36:01.613643",
     "status": "completed"
    },
    "tags": []
   },
   "source": [
    "**USING PREDICT FUNCTION**"
   ]
  },
  {
   "cell_type": "code",
   "execution_count": 4,
   "id": "5d3477e9",
   "metadata": {
    "execution": {
     "iopub.execute_input": "2023-04-09T11:36:01.626480Z",
     "iopub.status.busy": "2023-04-09T11:36:01.624953Z",
     "iopub.status.idle": "2023-04-09T11:36:01.653938Z",
     "shell.execute_reply": "2023-04-09T11:36:01.652210Z"
    },
    "papermill": {
     "duration": 0.03617,
     "end_time": "2023-04-09T11:36:01.656082",
     "exception": false,
     "start_time": "2023-04-09T11:36:01.619912",
     "status": "completed"
    },
    "tags": []
   },
   "outputs": [
    {
     "name": "stdout",
     "output_type": "stream",
     "text": [
      "       1 \n",
      "59.14977 \n"
     ]
    }
   ],
   "source": [
    "# Finding the weight of a person with height 170.  \n",
    "z <- data.frame(x = 160)  \n",
    "predict_result<-  predict(relationship_model,z)  \n",
    "print(predict_result)  "
   ]
  },
  {
   "cell_type": "markdown",
   "id": "6d9f0a8f",
   "metadata": {
    "papermill": {
     "duration": 0.003231,
     "end_time": "2023-04-09T11:36:01.662991",
     "exception": false,
     "start_time": "2023-04-09T11:36:01.659760",
     "status": "completed"
    },
    "tags": []
   },
   "source": [
    "**LINEAR REGRESSION GRAPH**\n"
   ]
  },
  {
   "cell_type": "markdown",
   "id": "05554547",
   "metadata": {
    "papermill": {
     "duration": 0.003095,
     "end_time": "2023-04-09T11:36:01.669222",
     "exception": false,
     "start_time": "2023-04-09T11:36:01.666127",
     "status": "completed"
    },
    "tags": []
   },
   "source": []
  },
  {
   "cell_type": "code",
   "execution_count": 5,
   "id": "ee60aa27",
   "metadata": {
    "execution": {
     "iopub.execute_input": "2023-04-09T11:36:01.678939Z",
     "iopub.status.busy": "2023-04-09T11:36:01.677381Z",
     "iopub.status.idle": "2023-04-09T11:36:01.933709Z",
     "shell.execute_reply": "2023-04-09T11:36:01.931900Z"
    },
    "papermill": {
     "duration": 0.263795,
     "end_time": "2023-04-09T11:36:01.936041",
     "exception": false,
     "start_time": "2023-04-09T11:36:01.672246",
     "status": "completed"
    },
    "tags": []
   },
   "outputs": [
    {
     "data": {
      "image/png": "[encoded data removed]"
     },
     "metadata": {
      "image/png": {
       "height": 420,
       "width": 420
      }
     },
     "output_type": "display_data"
    }
   ],
   "source": [
    "plot(y,x,col = \"red\",main = \"Height and Weight Regression\",abline(lm(x~y)),cex = 1.3,pch = 16,xlab = \"Weight in Kg\",ylab = \"Height in cm\")  "
   ]
  }
 ],
 "metadata": {
  "kernelspec": {
   "display_name": "R",
   "language": "R",
   "name": "ir"
  },
  "language_info": {
   "codemirror_mode": "r",
   "file_extension": ".r",
   "mimetype": "text/x-r-source",
   "name": "R",
   "pygments_lexer": "r",
   "version": "4.0.5"
  },
  "papermill": {
   "default_parameters": {},
   "duration": 5.276686,
   "end_time": "2023-04-09T11:36:02.060587",
   "environment_variables": {},
   "exception": null,
   "input_path": "__notebook__.ipynb",
   "output_path": "__notebook__.ipynb",
   "parameters": {},
   "start_time": "2023-04-09T11:35:56.783901",
   "version": "2.4.0"
  }
 },
 "nbformat": 4,
 "nbformat_minor": 5
}
